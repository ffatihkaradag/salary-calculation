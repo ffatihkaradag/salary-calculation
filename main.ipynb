{
 "cells": [
  {
   "cell_type": "code",
   "execution_count": 44,
   "source": [
    "import warnings\r\n",
    "warnings.filterwarnings('ignore')\r\n",
    "import pandas as pd\r\n",
    "data = pd.read_csv(\"./calisan_data.csv\")\r\n",
    "data = data[['Departman','DogumTarihi', 'Maas']]\r\n",
    "dataset_year = 2019 #dataset tarihi\r\n",
    "tecrube_baslangic_yasi = 21 #21 yaşından beri aynı sektörde çalıştığı farzediliyor."
   ],
   "outputs": [],
   "metadata": {}
  },
  {
   "cell_type": "code",
   "execution_count": 45,
   "source": [
    "for index, row in data.iterrows():\r\n",
    "    data['DogumTarihi'][index] = (row['DogumTarihi'].split(\" \")[2])\r\n",
    "#datasetten doğum ay ve günü silindi.\r\n",
    "for index, row in data.iterrows():\r\n",
    "    data['Maas'][index] = int(row['Maas']) - int(row['Maas']%1000)\r\n",
    "#Integer dönüşümü\r\n",
    "data['MaxTecrube'] = pd.Series()\r\n",
    "for index, row in data.iterrows():\r\n",
    "    data['MaxTecrube'][index] = (dataset_year - tecrube_baslangic_yasi - int(row['DogumTarihi']))\r\n",
    "#Varsayımsal olarak max tecrübe oluşturduk.\r\n",
    "data = data[['Departman','MaxTecrube','Maas']]\r\n",
    "data"
   ],
   "outputs": [
    {
     "output_type": "execute_result",
     "data": {
      "text/plain": [
       "                        Departman  MaxTecrube   Maas\n",
       "0     Müşteri İlişkileri ve Satış        13.0   9000\n",
       "1              Yazılım Geliştirme        19.0  11000\n",
       "2              Yazılım Geliştirme        19.0  11000\n",
       "3              Yazılım Geliştirme        11.0   5000\n",
       "4              Yazılım Geliştirme        11.0   8000\n",
       "...                           ...         ...    ...\n",
       "2440           Yazılım Geliştirme        23.0  12000\n",
       "2441           Yazılım Geliştirme        12.0   6000\n",
       "2442           Yazılım Geliştirme        15.0   8000\n",
       "2443           Yazılım Geliştirme        14.0   9000\n",
       "2444           Yazılım Geliştirme        20.0  14000\n",
       "\n",
       "[2445 rows x 3 columns]"
      ],
      "text/html": [
       "<div>\n",
       "<style scoped>\n",
       "    .dataframe tbody tr th:only-of-type {\n",
       "        vertical-align: middle;\n",
       "    }\n",
       "\n",
       "    .dataframe tbody tr th {\n",
       "        vertical-align: top;\n",
       "    }\n",
       "\n",
       "    .dataframe thead th {\n",
       "        text-align: right;\n",
       "    }\n",
       "</style>\n",
       "<table border=\"1\" class=\"dataframe\">\n",
       "  <thead>\n",
       "    <tr style=\"text-align: right;\">\n",
       "      <th></th>\n",
       "      <th>Departman</th>\n",
       "      <th>MaxTecrube</th>\n",
       "      <th>Maas</th>\n",
       "    </tr>\n",
       "  </thead>\n",
       "  <tbody>\n",
       "    <tr>\n",
       "      <th>0</th>\n",
       "      <td>Müşteri İlişkileri ve Satış</td>\n",
       "      <td>13.0</td>\n",
       "      <td>9000</td>\n",
       "    </tr>\n",
       "    <tr>\n",
       "      <th>1</th>\n",
       "      <td>Yazılım Geliştirme</td>\n",
       "      <td>19.0</td>\n",
       "      <td>11000</td>\n",
       "    </tr>\n",
       "    <tr>\n",
       "      <th>2</th>\n",
       "      <td>Yazılım Geliştirme</td>\n",
       "      <td>19.0</td>\n",
       "      <td>11000</td>\n",
       "    </tr>\n",
       "    <tr>\n",
       "      <th>3</th>\n",
       "      <td>Yazılım Geliştirme</td>\n",
       "      <td>11.0</td>\n",
       "      <td>5000</td>\n",
       "    </tr>\n",
       "    <tr>\n",
       "      <th>4</th>\n",
       "      <td>Yazılım Geliştirme</td>\n",
       "      <td>11.0</td>\n",
       "      <td>8000</td>\n",
       "    </tr>\n",
       "    <tr>\n",
       "      <th>...</th>\n",
       "      <td>...</td>\n",
       "      <td>...</td>\n",
       "      <td>...</td>\n",
       "    </tr>\n",
       "    <tr>\n",
       "      <th>2440</th>\n",
       "      <td>Yazılım Geliştirme</td>\n",
       "      <td>23.0</td>\n",
       "      <td>12000</td>\n",
       "    </tr>\n",
       "    <tr>\n",
       "      <th>2441</th>\n",
       "      <td>Yazılım Geliştirme</td>\n",
       "      <td>12.0</td>\n",
       "      <td>6000</td>\n",
       "    </tr>\n",
       "    <tr>\n",
       "      <th>2442</th>\n",
       "      <td>Yazılım Geliştirme</td>\n",
       "      <td>15.0</td>\n",
       "      <td>8000</td>\n",
       "    </tr>\n",
       "    <tr>\n",
       "      <th>2443</th>\n",
       "      <td>Yazılım Geliştirme</td>\n",
       "      <td>14.0</td>\n",
       "      <td>9000</td>\n",
       "    </tr>\n",
       "    <tr>\n",
       "      <th>2444</th>\n",
       "      <td>Yazılım Geliştirme</td>\n",
       "      <td>20.0</td>\n",
       "      <td>14000</td>\n",
       "    </tr>\n",
       "  </tbody>\n",
       "</table>\n",
       "<p>2445 rows × 3 columns</p>\n",
       "</div>"
      ]
     },
     "metadata": {},
     "execution_count": 45
    }
   ],
   "metadata": {}
  },
  {
   "cell_type": "code",
   "execution_count": 46,
   "source": [
    "from sklearn.preprocessing import LabelEncoder\r\n",
    "le = LabelEncoder()\r\n",
    "data['Departman'] = le.fit_transform(data['Departman'])"
   ],
   "outputs": [],
   "metadata": {}
  },
  {
   "cell_type": "code",
   "execution_count": 47,
   "source": [
    "data"
   ],
   "outputs": [
    {
     "output_type": "execute_result",
     "data": {
      "text/plain": [
       "      Departman  MaxTecrube   Maas\n",
       "0             1        13.0   9000\n",
       "1             2        19.0  11000\n",
       "2             2        19.0  11000\n",
       "3             2        11.0   5000\n",
       "4             2        11.0   8000\n",
       "...         ...         ...    ...\n",
       "2440          2        23.0  12000\n",
       "2441          2        12.0   6000\n",
       "2442          2        15.0   8000\n",
       "2443          2        14.0   9000\n",
       "2444          2        20.0  14000\n",
       "\n",
       "[2445 rows x 3 columns]"
      ],
      "text/html": [
       "<div>\n",
       "<style scoped>\n",
       "    .dataframe tbody tr th:only-of-type {\n",
       "        vertical-align: middle;\n",
       "    }\n",
       "\n",
       "    .dataframe tbody tr th {\n",
       "        vertical-align: top;\n",
       "    }\n",
       "\n",
       "    .dataframe thead th {\n",
       "        text-align: right;\n",
       "    }\n",
       "</style>\n",
       "<table border=\"1\" class=\"dataframe\">\n",
       "  <thead>\n",
       "    <tr style=\"text-align: right;\">\n",
       "      <th></th>\n",
       "      <th>Departman</th>\n",
       "      <th>MaxTecrube</th>\n",
       "      <th>Maas</th>\n",
       "    </tr>\n",
       "  </thead>\n",
       "  <tbody>\n",
       "    <tr>\n",
       "      <th>0</th>\n",
       "      <td>1</td>\n",
       "      <td>13.0</td>\n",
       "      <td>9000</td>\n",
       "    </tr>\n",
       "    <tr>\n",
       "      <th>1</th>\n",
       "      <td>2</td>\n",
       "      <td>19.0</td>\n",
       "      <td>11000</td>\n",
       "    </tr>\n",
       "    <tr>\n",
       "      <th>2</th>\n",
       "      <td>2</td>\n",
       "      <td>19.0</td>\n",
       "      <td>11000</td>\n",
       "    </tr>\n",
       "    <tr>\n",
       "      <th>3</th>\n",
       "      <td>2</td>\n",
       "      <td>11.0</td>\n",
       "      <td>5000</td>\n",
       "    </tr>\n",
       "    <tr>\n",
       "      <th>4</th>\n",
       "      <td>2</td>\n",
       "      <td>11.0</td>\n",
       "      <td>8000</td>\n",
       "    </tr>\n",
       "    <tr>\n",
       "      <th>...</th>\n",
       "      <td>...</td>\n",
       "      <td>...</td>\n",
       "      <td>...</td>\n",
       "    </tr>\n",
       "    <tr>\n",
       "      <th>2440</th>\n",
       "      <td>2</td>\n",
       "      <td>23.0</td>\n",
       "      <td>12000</td>\n",
       "    </tr>\n",
       "    <tr>\n",
       "      <th>2441</th>\n",
       "      <td>2</td>\n",
       "      <td>12.0</td>\n",
       "      <td>6000</td>\n",
       "    </tr>\n",
       "    <tr>\n",
       "      <th>2442</th>\n",
       "      <td>2</td>\n",
       "      <td>15.0</td>\n",
       "      <td>8000</td>\n",
       "    </tr>\n",
       "    <tr>\n",
       "      <th>2443</th>\n",
       "      <td>2</td>\n",
       "      <td>14.0</td>\n",
       "      <td>9000</td>\n",
       "    </tr>\n",
       "    <tr>\n",
       "      <th>2444</th>\n",
       "      <td>2</td>\n",
       "      <td>20.0</td>\n",
       "      <td>14000</td>\n",
       "    </tr>\n",
       "  </tbody>\n",
       "</table>\n",
       "<p>2445 rows × 3 columns</p>\n",
       "</div>"
      ]
     },
     "metadata": {},
     "execution_count": 47
    }
   ],
   "metadata": {}
  },
  {
   "cell_type": "code",
   "execution_count": 48,
   "source": [
    "from sklearn.model_selection import train_test_split\r\n",
    "training_set, validation_set = train_test_split(data, test_size = 0.2, random_state = 21)\r\n",
    "X_train = training_set.iloc[:,0:-1].values\r\n",
    "Y_train = training_set.iloc[:,-1].values\r\n",
    "X_val = validation_set.iloc[:,0:-1].values\r\n",
    "y_val = validation_set.iloc[:,-1].values"
   ],
   "outputs": [],
   "metadata": {}
  },
  {
   "cell_type": "code",
   "execution_count": 49,
   "source": [
    "\r\n",
    "def accuracy(confusion_matrix):\r\n",
    "    carpraz_top = confusion_matrix.trace()\r\n",
    "    el_top = confusion_matrix.sum()\r\n",
    "    return float(carpraz_top) / float(el_top)"
   ],
   "outputs": [],
   "metadata": {}
  },
  {
   "cell_type": "code",
   "execution_count": 50,
   "source": [
    "from sklearn.naive_bayes import GaussianNB\r\n",
    "classifier = GaussianNB()\r\n",
    "classifier.fit(X_train, Y_train)"
   ],
   "outputs": [
    {
     "output_type": "execute_result",
     "data": {
      "text/plain": [
       "GaussianNB()"
      ]
     },
     "metadata": {},
     "execution_count": 50
    }
   ],
   "metadata": {}
  },
  {
   "cell_type": "code",
   "execution_count": 51,
   "source": [
    "\r\n",
    "y_pred = classifier.predict(X_val)\r\n",
    "\r\n",
    "from sklearn.metrics import confusion_matrix\r\n",
    "cm = confusion_matrix(y_val, y_pred)\r\n",
    "\r\n",
    "print(\"VERIM = \", accuracy(cm))"
   ],
   "outputs": [
    {
     "output_type": "stream",
     "name": "stdout",
     "text": [
      "VERIM =  0.25357873210633947\n"
     ]
    }
   ],
   "metadata": {}
  },
  {
   "cell_type": "code",
   "execution_count": 52,
   "source": [
    "Ornek = [\r\n",
    "    [2,2], #2 yıllık tecrübesi olan yazılım geliştiricisi\r\n",
    "    [2,6], #6 yıllık tecrübesi olan yazılım geliştiricisi\r\n",
    "    [1,5], #5 yıllık tecrübesi olan müşteri ilişkileri çalışanı\r\n",
    "    [2,19], #19 yıllık tecrübesi olan yazılım geliştiricisi\r\n",
    "]\r\n",
    "tahminler = classifier.predict(Ornek)\r\n",
    "tahminler"
   ],
   "outputs": [
    {
     "output_type": "execute_result",
     "data": {
      "text/plain": [
       "array([ 3000,  5000,  4000, 11000], dtype=int64)"
      ]
     },
     "metadata": {},
     "execution_count": 52
    }
   ],
   "metadata": {}
  }
 ],
 "metadata": {
  "orig_nbformat": 4,
  "language_info": {
   "name": "python"
  }
 },
 "nbformat": 4,
 "nbformat_minor": 2
}